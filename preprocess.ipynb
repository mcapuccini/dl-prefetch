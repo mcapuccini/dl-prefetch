{
 "cells": [
  {
   "cell_type": "code",
   "execution_count": 3,
   "metadata": {},
   "outputs": [],
   "source": [
    "import tensorflow as tf\n",
    "import tensorflow_probability as tfp"
   ]
  },
  {
   "cell_type": "code",
   "execution_count": 2,
   "metadata": {},
   "outputs": [
    {
     "output_type": "stream",
     "name": "stdout",
     "text": "total 20G\n-rw-r--r-- 1 root root 20G May 28 11:54 canneal_test.6.0\n"
    }
   ],
   "source": [
    "! ls -lh /disk/traces"
   ]
  },
  {
   "cell_type": "code",
   "execution_count": 12,
   "metadata": {},
   "outputs": [
    {
     "output_type": "stream",
     "name": "stdout",
     "text": "7f7f623f6093 7fff5d6b9288\n7f7f623f6ea0 7fff5d6b9280\n7f7f623f6ea4 7fff5d6b9278\n7f7f623f6ea6 7fff5d6b9270\n7f7f623f6ea8 7fff5d6b9268\n7f7f623f6eaa 7fff5d6b9260\n7f7f623f6eaf 7fff5d6b9258\n7f7f623f6ebf 7f7f6261ce68\n7f7f623f6ec6 7f7f6261c720\n7f7f623f6ed7 7f7f6261d000\n"
    }
   ],
   "source": [
    "! head /disk/traces/canneal_test.6.0"
   ]
  },
  {
   "cell_type": "code",
   "execution_count": 4,
   "metadata": {},
   "outputs": [],
   "source": [
    "# Load data\n",
    "canneal = tf.data.experimental.CsvDataset(['/disk/traces/canneal_test.6.0'], [tf.string], field_delim=' ', select_cols=[1])"
   ]
  },
  {
   "cell_type": "code",
   "execution_count": 5,
   "metadata": {},
   "outputs": [
    {
     "output_type": "stream",
     "name": "stdout",
     "text": "[b'7fff5d6b9288']\n[b'7fff5d6b9280']\n[b'7fff5d6b9278']\n[b'7fff5d6b9270']\n[b'7fff5d6b9268']\n"
    }
   ],
   "source": [
    "# Inspect a few records\n",
    "for line in canneal.take(5):\n",
    "  print([item.numpy() for item in line])"
   ]
  },
  {
   "cell_type": "code",
   "execution_count": 7,
   "metadata": {},
   "outputs": [],
   "source": [
    "# Convert to int\n",
    "def toInt(x):\n",
    "    return int(x.numpy(), base=16)\n",
    "canneal_int = canneal.map(lambda x: tf.py_function(toInt, [x], [tf.int64]))"
   ]
  },
  {
   "cell_type": "code",
   "execution_count": 8,
   "metadata": {},
   "outputs": [
    {
     "output_type": "stream",
     "name": "stdout",
     "text": "[140734760718984]\n[140734760718976]\n[140734760718968]\n[140734760718960]\n[140734760718952]\n"
    }
   ],
   "source": [
    "# Inspect a few records\n",
    "for line in canneal_int.take(5):\n",
    "  print([item.numpy() for item in line])"
   ]
  }
 ],
 "metadata": {
  "language_info": {
   "codemirror_mode": {
    "name": "ipython",
    "version": 3
   },
   "file_extension": ".py",
   "mimetype": "text/x-python",
   "name": "python",
   "nbconvert_exporter": "python",
   "pygments_lexer": "ipython3",
   "version": "3.7.3-final"
  },
  "orig_nbformat": 2,
  "kernelspec": {
   "name": "python3",
   "display_name": "Python 3"
  }
 },
 "nbformat": 4,
 "nbformat_minor": 2
}