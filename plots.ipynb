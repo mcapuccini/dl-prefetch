{
 "cells": [
  {
   "cell_type": "code",
   "execution_count": 1,
   "metadata": {},
   "outputs": [],
   "source": [
    "import tensorflow as tf\n",
    "import tensorflow_probability as tfp"
   ]
  },
  {
   "cell_type": "code",
   "execution_count": 2,
   "metadata": {},
   "outputs": [
    {
     "output_type": "stream",
     "name": "stdout",
     "text": "total 20G\n-rw-r--r-- 1 root root 20G May 28 11:54 canneal_test.6.0\n"
    }
   ],
   "source": [
    "! ls -lh /disk/traces"
   ]
  },
  {
   "cell_type": "code",
   "execution_count": 5,
   "metadata": {},
   "outputs": [],
   "source": [
    "# Load data\n",
    "canneal = tf.data.TextLineDataset(['/disk/traces/canneal_test.6.0'])"
   ]
  },
  {
   "cell_type": "code",
   "execution_count": 4,
   "metadata": {},
   "outputs": [
    {
     "output_type": "stream",
     "name": "stdout",
     "text": "b'7f7f623f6093 7fff5d6b9288'\nb'7f7f623f6ea0 7fff5d6b9280'\nb'7f7f623f6ea4 7fff5d6b9278'\nb'7f7f623f6ea6 7fff5d6b9270'\nb'7f7f623f6ea8 7fff5d6b9268'\n"
    }
   ],
   "source": [
    "# Inspect a few of records\n",
    "for line in canneal.take(5):\n",
    "  print(line.numpy())"
   ]
  },
  {
   "cell_type": "code",
   "execution_count": null,
   "metadata": {},
   "outputs": [],
   "source": []
  }
 ],
 "metadata": {
  "language_info": {
   "codemirror_mode": {
    "name": "ipython",
    "version": 3
   },
   "file_extension": ".py",
   "mimetype": "text/x-python",
   "name": "python",
   "nbconvert_exporter": "python",
   "pygments_lexer": "ipython3",
   "version": "3.7.3-final"
  },
  "orig_nbformat": 2,
  "kernelspec": {
   "name": "python3",
   "display_name": "Python 3"
  }
 },
 "nbformat": 4,
 "nbformat_minor": 2
}